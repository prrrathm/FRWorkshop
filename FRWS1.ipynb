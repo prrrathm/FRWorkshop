{
 "cells": [
  {
   "cell_type": "code",
   "execution_count": 19,
   "id": "9e672568",
   "metadata": {},
   "outputs": [],
   "source": [
    "import face_recognition\n",
    "from PIL import Image, ImageDraw, ImageFont"
   ]
  },
  {
   "cell_type": "code",
   "execution_count": 23,
   "id": "1226d902",
   "metadata": {},
   "outputs": [],
   "source": [
    "group_photo = face_recognition.load_image_file('img/grp1.jpg')\n",
    "group_photo_location = face_recognition.face_locations(group_photo)\n"
   ]
  },
  {
   "cell_type": "code",
   "execution_count": null,
   "id": "bf7ac89f",
   "metadata": {},
   "outputs": [],
   "source": [
    "pil_img = Image.fromarray(group_photo)\n",
    "\n",
    "# fnt = ImageFont.truetype('/usr/share/fonts/truetype/ubuntu/Ubuntu-B.ttf', 30)\n",
    "\n",
    "# count = 0\n",
    "# for face_location in group_photo_location:\n",
    "#     count += 1\n",
    "#     top, right, bottom, left = face_location\n",
    "#     draw = ImageDraw.Draw(pil_img)\n",
    "#     draw.rectangle((left, top, right, bottom), outline=(0, 0, 0), width=4)\n",
    "#     face_in_group_photo = group_photo[top:bottom, left:right]\n",
    "#     pil_face = Image.fromarray(face_in_group_photo)\n",
    "#     pil_face.show()\n",
    "#     name = input(\"Enter the name of face shown: \")\n",
    "#     draw.text((left+15, top-50), str(name), fill=(0, 0, 255))\n",
    "\n",
    "pil_img.show()"
   ]
  },
  {
   "cell_type": "code",
   "execution_count": null,
   "id": "db7e1a21",
   "metadata": {},
   "outputs": [],
   "source": []
  }
 ],
 "metadata": {
  "kernelspec": {
   "display_name": "Python 3 (ipykernel)",
   "language": "python",
   "name": "python3"
  },
  "language_info": {
   "codemirror_mode": {
    "name": "ipython",
    "version": 3
   },
   "file_extension": ".py",
   "mimetype": "text/x-python",
   "name": "python",
   "nbconvert_exporter": "python",
   "pygments_lexer": "ipython3",
   "version": "3.9.7"
  }
 },
 "nbformat": 4,
 "nbformat_minor": 5
}
