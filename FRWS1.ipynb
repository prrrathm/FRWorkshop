{
 "cells": [
  {
   "cell_type": "code",
   "execution_count": 38,
   "id": "9e672568",
   "metadata": {},
   "outputs": [],
   "source": [
    "import face_recognition as FR\n",
    "from PIL import Image, ImageDraw, ImageFont, ImageFilter"
   ]
  },
  {
   "cell_type": "markdown",
   "id": "dae164ac",
   "metadata": {},
   "source": [
    "TEXT OVER IMAGE"
   ]
  },
  {
   "cell_type": "code",
   "execution_count": 76,
   "id": "6ca5790c",
   "metadata": {},
   "outputs": [],
   "source": [
    "fnt1 = ImageFont.truetype('/usr/share/fonts/truetype/ubuntu/Ubuntu-B.ttf', 20)\n",
    "fnt2 = ImageFont.truetype('/usr/share/fonts/truetype/ubuntu/Ubuntu-B.ttf', 30)"
   ]
  },
  {
   "cell_type": "code",
   "execution_count": 23,
   "id": "19387542",
   "metadata": {},
   "outputs": [],
   "source": [
    "pil_sunset = Image.open('img/images(3)')\n",
    "draw = ImageDraw.Draw(pil_sunset)\n",
    "\n",
    "draw.text((0, 0), \"Sunset Picture\",font=fnt1, fill=(10, 10, 10))\n",
    "pil_sunset.show()"
   ]
  },
  {
   "cell_type": "markdown",
   "id": "cf70bc27",
   "metadata": {},
   "source": [
    "FILTER OVER IMAGE"
   ]
  },
  {
   "cell_type": "code",
   "execution_count": 27,
   "id": "f2081b05",
   "metadata": {},
   "outputs": [],
   "source": [
    "# EMBOSS\n",
    "img5 = Image.open('img/images(5)')\n",
    "pilEmboss = img5.filter(ImageFilter.EMBOSS())\n",
    "pilEmboss.show()"
   ]
  },
  {
   "cell_type": "code",
   "execution_count": 54,
   "id": "92d4abc7",
   "metadata": {},
   "outputs": [],
   "source": [
    "# BLUR\n",
    "img8 = Image.open('img/images(8)')\n",
    "img6.filter(ImageFilter.BLUR()).show()"
   ]
  },
  {
   "cell_type": "markdown",
   "id": "43ea1edd",
   "metadata": {},
   "source": [
    "GROUP PHOTO SHOW"
   ]
  },
  {
   "cell_type": "code",
   "execution_count": 61,
   "id": "79a66d2d",
   "metadata": {},
   "outputs": [],
   "source": [
    "grp2 = FR.load_image_file('img/grp2.jpg')\n",
    "\n",
    "for i in FR.face_locations(grp2) :\n",
    "    top, right, bottom, left = i\n",
    "    Image.fromarray(grp2[top:bottom,left:right]).show()"
   ]
  },
  {
   "cell_type": "markdown",
   "id": "286e90f4",
   "metadata": {},
   "source": [
    "MARK FACES"
   ]
  },
  {
   "cell_type": "code",
   "execution_count": 62,
   "id": "a4dbc823",
   "metadata": {},
   "outputs": [
    {
     "name": "stdout",
     "output_type": "stream",
     "text": [
      "No of faces :  11\n"
     ]
    }
   ],
   "source": [
    "grp4 = FR.load_image_file('img/grp4.jpg')\n",
    "pilImg = Image.fromarray(grp4)\n",
    "\n",
    "for location in FR.face_locations(grp4) :\n",
    "    top, right, bottom, left = location\n",
    "    ImageDraw.Draw(pilImg).rectangle(\n",
    "        (left,top,right,bottom), \n",
    "        outline=(0,0,0), \n",
    "        width=3\n",
    "    )\n",
    "\n",
    "pilImg.show()"
   ]
  },
  {
   "cell_type": "markdown",
   "id": "b19dc2ec",
   "metadata": {},
   "source": [
    "MARK FACE WITH LABEL"
   ]
  },
  {
   "cell_type": "code",
   "execution_count": 78,
   "id": "8aeec3e5",
   "metadata": {},
   "outputs": [],
   "source": [
    "grp3 = FR.load_image_file('img/grp3.jpg')\n",
    "pilgrp3 = Image.fromarray(grp3)\n",
    "\n",
    "count = 0\n",
    "for i in FR.face_locations(grp3) :\n",
    "    count += 1\n",
    "    top, right, bottom, left = i\n",
    "    ImageDraw.Draw(pilgrp3).rectangle(\n",
    "        (left, top, right,  bottom),\n",
    "        outline = (200,200,200),\n",
    "        width = 3\n",
    "    )\n",
    "    ImageDraw.Draw(pilgrp3).text(\n",
    "        (left+20,top-30),\n",
    "        'Face ' + str(count),\n",
    "        fill = (10,200,220),\n",
    "        font = fnt2\n",
    "    )\n",
    "    \n",
    "pilgrp3.show()"
   ]
  },
  {
   "cell_type": "markdown",
   "id": "bbd7fde6",
   "metadata": {},
   "source": [
    "MARK FACES WITH CUSTOM LABEL"
   ]
  },
  {
   "cell_type": "code",
   "execution_count": 79,
   "id": "4a33d080",
   "metadata": {
    "collapsed": true
   },
   "outputs": [
    {
     "name": "stdout",
     "output_type": "stream",
     "text": [
      "Enter name of this person ->Pratham\n",
      "Enter name of this person ->Abhinav\n",
      "Enter name of this person ->Nishant\n",
      "Enter name of this person ->yukti\n",
      "Enter name of this person ->Disha\n",
      "Enter name of this person ->Atul\n",
      "Enter name of this person ->Vibha\n",
      "Enter name of this person ->Mayank\n",
      "Enter name of this person ->Mansi\n",
      "Enter name of this person ->Saurav\n",
      "Enter name of this person ->Piyush\n"
     ]
    }
   ],
   "source": [
    "grp4 = FR.load_image_file('img/grp4.jpg')\n",
    "pilgrp4 = Image.fromarray(grp4)\n",
    "\n",
    "for i in FR.face_locations(grp4) :\n",
    "    top, right, bottom, left = i\n",
    "    ImageDraw.Draw(pilgrp4).rectangle(\n",
    "        (left, top, right,  bottom),\n",
    "        outline = (200,200,200),\n",
    "        width = 3\n",
    "    )\n",
    "    \n",
    "    pilface = Image.fromarray(grp4[top:bottom,left:right])\n",
    "    pilface.show()\n",
    "    name = input('Enter name of this person ->')\n",
    "    \n",
    "    ImageDraw.Draw(pilgrp4).text(\n",
    "        (left+20,top-30),\n",
    "        name,\n",
    "        fill = (10,200,220),\n",
    "        font = fnt2\n",
    "    )"
   ]
  },
  {
   "cell_type": "code",
   "execution_count": 80,
   "id": "6e879ba9",
   "metadata": {},
   "outputs": [],
   "source": [
    "pilgrp4.show()"
   ]
  },
  {
   "cell_type": "code",
   "execution_count": 82,
   "id": "b48b8342",
   "metadata": {
    "collapsed": true
   },
   "outputs": [
    {
     "name": "stdout",
     "output_type": "stream",
     "text": [
      "No of Faces detected in this photo 11\n",
      "Face,, 0  Top, Left, , Bottom, Right.. 435 643 524 733\n",
      "Face,, 1  Top, Left, , Bottom, Right.. 414 342 522 450\n",
      "Face,, 2  Top, Left, , Bottom, Right.. 262 494 337 569\n",
      "Face,, 3  Top, Left, , Bottom, Right.. 437 519 511 594\n",
      "Face,, 4  Top, Left, , Bottom, Right.. 281 681 343 743\n",
      "Face,, 5  Top, Left, , Bottom, Right.. 462 724 570 832\n",
      "Face,, 6  Top, Left, , Bottom, Right.. 287 345 362 419\n",
      "Face,, 7  Top, Left, , Bottom, Right.. 191 439 253 501\n",
      "Face,, 8  Top, Left, , Bottom, Right.. 305 753 395 842\n",
      "Face,, 9  Top, Left, , Bottom, Right.. 211 384 274 446\n",
      "Face,, 10  Top, Left, , Bottom, Right.. 170 653 232 716\n"
     ]
    }
   ],
   "source": [
    "grp4 = FR.load_image_file('img/grp4.jpg')\n",
    "family_pil_image = Image.fromarray(grp4)\n",
    "fl = face_recognition.face_locations(grp4)\n",
    "\n",
    "face_count = len(fl)\n",
    "print(\"No of Faces detected in this photo\", face_count)\n",
    "\n",
    "draw = ImageDraw.Draw(family_pil_image)\n",
    "\n",
    "\n",
    "for i in range(face_count):\n",
    "    \n",
    "    top, right, bottom, left = fl[i]\n",
    "    print(\"Face,,\", i, \" Top, Left, , Bottom, Right..\", top, left, bottom, right)\n",
    "    \n",
    "    draw.rectangle(\n",
    "            (left, top, right, bottom),\n",
    "            outline=(255, 0, 0), width = 3)\n",
    "    draw.text((left,bottom-20), str(i), font=fnt2, fill=(0,0,255))   \n",
    "family_pil_image.show()\n"
   ]
  },
  {
   "cell_type": "markdown",
   "id": "c2dbc5ae",
   "metadata": {},
   "source": [
    "12 ENCODING ONE FACE"
   ]
  },
  {
   "cell_type": "code",
   "execution_count": 84,
   "id": "b12aa3c8",
   "metadata": {
    "collapsed": true
   },
   "outputs": [
    {
     "name": "stdout",
     "output_type": "stream",
     "text": [
      "Shape of Encoding :  (128,)\n",
      "Encoding =  [-0.10478532  0.05819444  0.08573904 -0.02390971 -0.09597525  0.08087055\n",
      "  0.04638896 -0.00743719  0.14169236 -0.0367782   0.25073701 -0.01825904\n",
      " -0.22280338 -0.09740284  0.01188406  0.11567774 -0.11018228 -0.14703117\n",
      "  0.03029542 -0.03482638  0.05739733  0.01259557 -0.01061832  0.0327732\n",
      " -0.1477343  -0.39873594 -0.06227727 -0.17387438 -0.04676472 -0.13316752\n",
      "  0.00527559  0.09300153 -0.13258696 -0.06687707  0.02908848  0.12632227\n",
      " -0.02424076 -0.07843482  0.162201    0.00585615 -0.09143794 -0.05012605\n",
      "  0.03827816  0.32045075  0.03951704 -0.0149892   0.06592523  0.03866274\n",
      "  0.08624207 -0.27679312  0.1052693   0.10133034  0.15059273  0.0697132\n",
      "  0.07978991 -0.0879204   0.04601787  0.07208218 -0.17616753  0.06252678\n",
      "  0.05797078 -0.0178451   0.00642639 -0.0522574   0.23217516  0.08747694\n",
      " -0.0439785  -0.08512773  0.12517014 -0.04683129 -0.08707698 -0.01324261\n",
      " -0.17394654 -0.16162717 -0.19970487  0.1085681   0.36622968  0.1500774\n",
      " -0.16755287  0.02978053 -0.15948078  0.01691616  0.00335256 -0.03114077\n",
      " -0.01319431  0.03451171 -0.11706717  0.05788469  0.19651861 -0.03878102\n",
      " -0.03035512  0.16588216  0.00127831 -0.00549247  0.07449471 -0.05137512\n",
      " -0.01905094  0.04072144 -0.13349389 -0.00118864  0.00166656 -0.10873864\n",
      " -0.00553462  0.09765474 -0.29391655  0.10455541  0.00221227 -0.05223951\n",
      "  0.02066815  0.04087545 -0.18050061 -0.02568264  0.15951222 -0.27169344\n",
      "  0.1526081   0.17380466  0.06041866  0.16414081  0.04072592  0.02803735\n",
      "  0.00933514 -0.08092121 -0.15656009 -0.07021365  0.09675603  0.04434639\n",
      " -0.05744115  0.05021993]\n"
     ]
    }
   ],
   "source": [
    "twelve = FR.load_image_file('img/images(41)')\n",
    "encode12 = FR.face_encodings(twelve)[0]\n",
    "print('Shape of Encoding : ', encode12.shape)\n",
    "print('Encoding = ', encode12)"
   ]
  },
  {
   "cell_type": "markdown",
   "id": "42776871",
   "metadata": {},
   "source": [
    "13 FACE ENCODING MULTIPLEMULTIPLE FACES"
   ]
  },
  {
   "cell_type": "code",
   "execution_count": 88,
   "id": "554b7db2",
   "metadata": {
    "collapsed": true
   },
   "outputs": [
    {
     "name": "stdout",
     "output_type": "stream",
     "text": [
      "No of Faces =  5\n",
      "Shape of each encodings =  (128,)\n",
      "Encodings \n",
      "Encoding of Face  0  =  [-0.07187794  0.12504426  0.09372379 -0.05025445 -0.02571877  0.00261072\n",
      " -0.00220493 -0.09690867  0.18765591 -0.02665885  0.24857691 -0.06787697\n",
      " -0.20911984 -0.15122542 -0.0011995   0.12186542 -0.15718068 -0.07916711\n",
      " -0.06685174 -0.07135306  0.07367083 -0.00885566  0.0729271   0.06510054\n",
      " -0.21220912 -0.39677039 -0.05520307 -0.09497056  0.08345977 -0.10722727\n",
      "  0.01301376  0.05821389 -0.15030152  0.02406387 -0.03380978  0.05259642\n",
      "  0.02893609 -0.05984667  0.18073386 -0.02861023 -0.17023955  0.03924941\n",
      " -0.00120503  0.23496792  0.21893822 -0.0485145   0.10845777 -0.07821983\n",
      "  0.11395632 -0.21467473  0.06311916  0.10220233  0.01422213 -0.00951701\n",
      "  0.13309936 -0.08139084 -0.05489238  0.12955478 -0.20157538  0.12716737\n",
      "  0.07200535 -0.05377407 -0.0608397  -0.03484024  0.15182771  0.11439634\n",
      " -0.12262364 -0.18837847  0.11078019 -0.19113488  0.01273563  0.13747533\n",
      " -0.08678961 -0.13932846 -0.34347722  0.05366648  0.44321507  0.13364385\n",
      " -0.20645878  0.02629704 -0.10500182  0.01939824  0.14366581  0.04203643\n",
      " -0.08828181 -0.00480195 -0.14798526  0.06287     0.19974072  0.04647615\n",
      " -0.08013933  0.2713421   0.00868392  0.02396201  0.00416899  0.03640175\n",
      " -0.09881499 -0.01590108 -0.06583756 -0.00328407  0.06775324 -0.0681481\n",
      "  0.02831895  0.07602798 -0.17408276  0.14524998 -0.01027229  0.03112648\n",
      "  0.04660539  0.05785664 -0.1389263  -0.00649123  0.16441676 -0.32508841\n",
      "  0.13240933  0.12974948  0.08125213  0.09045368  0.05839561  0.05653034\n",
      " -0.00249703 -0.01274148 -0.0480683   0.00132671 -0.00162726 -0.06286274\n",
      "  0.09188429  0.01833709]\n",
      "Encoding of Face  1  =  [-0.2038977   0.07177842  0.05235114 -0.05134831 -0.05709975 -0.03677012\n",
      " -0.04819044 -0.00339684  0.17070653 -0.07553749  0.20514342  0.02027356\n",
      " -0.16003004 -0.09473609  0.03276841  0.07064381 -0.11570512 -0.10664828\n",
      " -0.05030694 -0.14323498  0.03305283  0.04133587  0.00695895  0.05555001\n",
      " -0.1229206  -0.35467395 -0.05600174 -0.15751554  0.1060914  -0.12344202\n",
      "  0.03500329  0.0004923  -0.14293803 -0.01498168 -0.00772931  0.1137998\n",
      "  0.06742154 -0.02826672  0.17137277 -0.02886947 -0.10543249 -0.06065632\n",
      "  0.06652242  0.26774159  0.17577116  0.06100813  0.02742109 -0.00531892\n",
      "  0.19113822 -0.20098555  0.11914369  0.05019593  0.14303154  0.01149773\n",
      "  0.11060236 -0.15087447  0.00769233  0.06772415 -0.23158307  0.131568\n",
      " -0.00470567 -0.05482648 -0.1086766  -0.01364752  0.24461386  0.13285081\n",
      " -0.10123962 -0.1521955   0.12731965 -0.22005539  0.00230905  0.12686324\n",
      " -0.10646124 -0.09743208 -0.2566092   0.07573478  0.38192993  0.11144514\n",
      " -0.12000896  0.04203147 -0.022287   -0.06431884  0.01222328  0.08624309\n",
      " -0.15362053  0.00218225 -0.0856644   0.05598016  0.1979292   0.06351461\n",
      " -0.04295544  0.19463211 -0.02068895  0.05489366 -0.00414015  0.01751845\n",
      " -0.11344758 -0.06816303 -0.01254542 -0.07171468  0.11286105 -0.09091265\n",
      "  0.01984072  0.07096466 -0.21781278  0.10880786 -0.06800552  0.02642685\n",
      "  0.03512836  0.05958354 -0.07662919 -0.05114951  0.15936735 -0.19765812\n",
      "  0.15256798  0.14274573  0.05305915  0.14731324  0.03207573  0.05735001\n",
      "  0.03001094  0.02321794 -0.10007443 -0.02285553 -0.00878191 -0.08109848\n",
      "  0.07022578  0.03820365]\n",
      "Encoding of Face  2  =  [-1.25086188e-01  1.43810045e-02  5.17552644e-02 -2.60130465e-02\n",
      " -3.25926803e-02 -7.55585134e-02  1.13198347e-03 -6.70431182e-02\n",
      "  2.20382407e-01 -1.09472215e-01  2.44822234e-01  2.19430625e-02\n",
      " -1.81045964e-01 -6.27464727e-02 -3.00034061e-02  1.49968415e-01\n",
      " -1.40272856e-01 -1.34184673e-01 -8.99905711e-02 -4.71154898e-02\n",
      "  3.20528969e-02 -2.14320906e-02  8.99006948e-02  2.29867175e-04\n",
      " -2.17911869e-01 -3.08808506e-01 -6.46434724e-02 -1.37573779e-01\n",
      "  3.20264772e-02  3.65325715e-03  5.19861728e-02  1.28094167e-01\n",
      " -2.09792212e-01 -6.29215389e-02  4.63470742e-02  1.12802684e-01\n",
      " -2.22211629e-02 -3.85956652e-02  2.61916369e-01 -4.16806489e-02\n",
      " -2.06842124e-01 -1.09950282e-01  5.63512482e-02  1.79705158e-01\n",
      "  1.90518677e-01 -2.80997492e-02  5.28145507e-02 -1.26493186e-01\n",
      "  8.40981901e-02 -2.66956419e-01  3.84314656e-02  7.47729465e-02\n",
      "  5.18361852e-02  7.37554207e-02  7.48404786e-02 -1.59271136e-01\n",
      "  6.84424043e-02  1.18733443e-01 -2.19926775e-01 -2.83053368e-02\n",
      " -1.49682611e-02 -4.58947048e-02 -7.52555430e-02 -4.31936886e-03\n",
      "  2.33919650e-01  1.35741547e-01 -1.08848512e-01 -1.04094446e-01\n",
      "  2.46387586e-01 -1.39235035e-01  4.29746173e-02  1.45667955e-01\n",
      " -8.68764296e-02 -1.59974173e-01 -3.13444525e-01 -8.02102536e-02\n",
      "  4.66833174e-01  6.77897781e-02 -1.00410216e-01  6.21406212e-02\n",
      " -1.35978997e-01 -5.02659008e-02  1.96526982e-02  2.64486298e-02\n",
      " -1.09799348e-01  1.09701967e-02 -5.67231998e-02  4.03050147e-02\n",
      "  1.97144508e-01  9.37399175e-03 -4.49007377e-02  1.50293931e-01\n",
      "  8.50846991e-04  1.25089372e-02  6.97865039e-02  6.05613776e-02\n",
      " -7.58362040e-02 -4.75212596e-02 -1.42360687e-01 -4.82895002e-02\n",
      "  2.26218328e-02 -6.40141889e-02  2.01477613e-02  1.15115814e-01\n",
      " -1.87127382e-01  8.97009522e-02  2.86456384e-03 -2.56756693e-02\n",
      "  5.10888733e-02  3.42271440e-02 -7.06780553e-02 -7.17778429e-02\n",
      "  1.29718602e-01 -2.40085468e-01  1.39301762e-01  1.09415449e-01\n",
      " -4.97273020e-02  1.71063006e-01  7.24169984e-02  9.39259157e-02\n",
      " -7.17341527e-02 -1.99237596e-02 -1.81084171e-01 -1.13974949e-02\n",
      "  1.25163300e-02 -1.03407344e-02  8.92625079e-02  2.95199938e-02]\n",
      "Encoding of Face  3  =  [-0.17824896  0.09632742 -0.0332786  -0.03653059 -0.0838856  -0.03964355\n",
      " -0.007863   -0.14294176  0.16464683 -0.0424132   0.21933554 -0.01435786\n",
      " -0.18389872 -0.129568   -0.0594071   0.05089627 -0.10608079 -0.19744007\n",
      " -0.03883518 -0.01352418  0.08160012 -0.03812988  0.07579377  0.0733221\n",
      " -0.18391278 -0.30267048 -0.11834908 -0.08794484  0.05884615 -0.03194515\n",
      " -0.04025732  0.04536214 -0.22992791 -0.07758972 -0.00317945  0.03089599\n",
      "  0.06584781  0.01730486  0.20027514 -0.00999658 -0.20624977 -0.0085017\n",
      "  0.07107018  0.30585518  0.19443458  0.0060774   0.00569385 -0.05700433\n",
      "  0.0509221  -0.15181386  0.09553865  0.16198674  0.1317368  -0.0441732\n",
      "  0.07791369 -0.12408041  0.00291039  0.06378627 -0.12573241  0.06583472\n",
      "  0.04114776  0.00461658 -0.01596248 -0.05300233  0.18734965  0.09288438\n",
      " -0.05799385 -0.17248249  0.17425871 -0.12987661 -0.0220222   0.09270098\n",
      " -0.15520769 -0.1641959  -0.30122975  0.02011867  0.44499537  0.12095555\n",
      " -0.16813105  0.10754599 -0.10397658 -0.0354415   0.06361992 -0.00297687\n",
      " -0.13387783  0.05209131 -0.17983679  0.05353411  0.23180528  0.01982248\n",
      " -0.07932609  0.16633734  0.00957084 -0.00547517  0.10203555  0.05687337\n",
      " -0.08549961  0.01355731 -0.17011054  0.00111879  0.03927945 -0.09415384\n",
      "  0.00210996  0.13205737 -0.16607709  0.05137347  0.03772031 -0.01515\n",
      " -0.07384044  0.05798646 -0.13540567 -0.04703306  0.08643709 -0.21232042\n",
      "  0.19422713  0.09602444  0.06884544  0.10406299  0.10648059  0.02029383\n",
      "  0.00639771  0.03828938 -0.07037482 -0.06816848  0.0401771  -0.07570367\n",
      "  0.13972948  0.08082686]\n",
      "Encoding of Face  4  =  [-1.72364503e-01  1.06777810e-01  4.76416126e-02 -3.67527567e-02\n",
      " -1.17527679e-01 -2.25916542e-02 -2.60231737e-02 -1.33910283e-01\n",
      "  1.69071674e-01 -9.58829671e-02  2.72209167e-01 -3.46505940e-02\n",
      " -2.37540826e-01 -1.18764438e-01 -1.25748646e-02  7.63732269e-02\n",
      " -9.05168578e-02 -1.69801787e-01 -3.41616273e-02 -6.02011234e-02\n",
      "  5.08886650e-02 -3.96805219e-02  4.57524844e-02  2.35453248e-02\n",
      " -2.29227498e-01 -2.93878615e-01 -1.48031861e-01 -1.57631129e-01\n",
      "  5.95197752e-02 -8.41838419e-02 -2.86951941e-02  1.64488126e-02\n",
      " -2.08757848e-01 -8.68859813e-02 -2.24874169e-03  1.10460632e-01\n",
      " -3.13630421e-03  4.22785990e-02  1.46086618e-01 -3.43631804e-02\n",
      " -1.37338430e-01 -4.86250892e-02  2.67332401e-02  2.25113928e-01\n",
      "  1.42247811e-01  8.96465331e-02  2.93590128e-02 -1.39106065e-03\n",
      "  7.20501691e-02 -2.64485538e-01  1.17547423e-01  6.14647865e-02\n",
      "  2.14925796e-01  3.40249203e-02  1.18952408e-01 -1.55198559e-01\n",
      " -2.08615996e-02  1.30668372e-01 -1.84841231e-01  7.28003085e-02\n",
      " -1.91460326e-02 -3.98796126e-02 -9.88368765e-02 -5.89770149e-04\n",
      "  3.16093951e-01  1.97383896e-01 -9.84704196e-02 -8.24344158e-02\n",
      "  2.48082027e-01 -1.12542070e-01 -2.01375131e-02  1.28751427e-01\n",
      " -9.88233164e-02 -1.09194592e-01 -2.35692471e-01  8.05192813e-02\n",
      "  4.58181024e-01  7.05514476e-02 -1.72891974e-01  2.57774536e-03\n",
      " -6.05999492e-02  5.61304204e-03 -7.07383677e-02 -2.33076140e-02\n",
      " -1.68666080e-01  4.88969497e-02 -1.08523272e-01  5.30581474e-02\n",
      "  1.70097604e-01 -6.13862909e-02  6.66323770e-03  1.92623958e-01\n",
      " -1.10700894e-02  9.86187607e-02  7.48328716e-02  6.27102097e-03\n",
      " -6.63262159e-02 -7.85293654e-02 -6.57851622e-02 -5.53964935e-02\n",
      "  1.30390599e-01 -6.87385052e-02 -1.25020389e-02  1.05293989e-01\n",
      " -1.57264113e-01  9.53968987e-02 -4.77774777e-02 -5.91793954e-02\n",
      " -4.73730415e-02  2.22923625e-02 -2.96883639e-02 -3.05872560e-02\n",
      "  1.36158481e-01 -2.85401762e-01  2.00722545e-01  1.21592253e-01\n",
      " -8.63893926e-02  1.20437980e-01  1.47099430e-02  1.15658175e-02\n",
      "  2.59038862e-02 -1.40333548e-04 -1.04337603e-01 -1.09064236e-01\n",
      "  9.62096676e-02 -1.37901753e-01  3.64904143e-02  1.53417774e-02]\n"
     ]
    }
   ],
   "source": [
    "grp2 = FR.load_image_file('img/grp2.jpg', 'RGB')\n",
    "encode13 = FR.face_encodings(grp2)\n",
    "print('No of Faces = ', len(encode13))\n",
    "print('Shape of each encodings = ', encode13[0].shape)\n",
    "print('Encodings ')\n",
    "for i in range(len(encode13)) : \n",
    "    print('Encoding of Face ',i,' = ',encode13[i])"
   ]
  },
  {
   "cell_type": "markdown",
   "id": "98daa4f0",
   "metadata": {},
   "source": [
    "14 DISTANCE BETWEEN FACES"
   ]
  },
  {
   "cell_type": "code",
   "execution_count": 94,
   "id": "91039a18",
   "metadata": {},
   "outputs": [
    {
     "name": "stdout",
     "output_type": "stream",
     "text": [
      "Distance between photos :  [0.74451648]\n"
     ]
    }
   ],
   "source": [
    "grp4 = FR.load_image_file('img/grp4.jpg')\n",
    "encode4 = FR.face_encodings(grp4)[0]\n",
    "grp2 = FR.load_image_file('img/grp2.jpg', 'RGB')\n",
    "encode2 = FR.face_encodings(grp2)[0]\n",
    "\n",
    "\n",
    "print('Distance between photos : ',\n",
    "     FR.face_distance([encode4],encode2))\n"
   ]
  },
  {
   "cell_type": "markdown",
   "id": "cc82fa8a",
   "metadata": {},
   "source": [
    "15 DISTANCE BETWEEN 2 PEOPLE"
   ]
  },
  {
   "cell_type": "code",
   "execution_count": 104,
   "id": "9ff93eaf",
   "metadata": {
    "collapsed": true
   },
   "outputs": [
    {
     "ename": "TypeError",
     "evalue": "unsupported operand type(s) for -: 'list' and 'list'",
     "output_type": "error",
     "traceback": [
      "\u001b[0;31m---------------------------------------------------------------------------\u001b[0m",
      "\u001b[0;31mTypeError\u001b[0m                                 Traceback (most recent call last)",
      "\u001b[0;32m/tmp/ipykernel_5551/1955023451.py\u001b[0m in \u001b[0;36m<module>\u001b[0;34m\u001b[0m\n\u001b[1;32m     12\u001b[0m \u001b[0;34m\u001b[0m\u001b[0m\n\u001b[1;32m     13\u001b[0m \u001b[0mfaces\u001b[0m \u001b[0;34m=\u001b[0m \u001b[0;34m[\u001b[0m\u001b[0mf1_sign\u001b[0m\u001b[0;34m,\u001b[0m\u001b[0mf2_sign\u001b[0m\u001b[0;34m,\u001b[0m\u001b[0mf3_sign\u001b[0m\u001b[0;34m,\u001b[0m\u001b[0mf4_sign\u001b[0m\u001b[0;34m]\u001b[0m\u001b[0;34m\u001b[0m\u001b[0;34m\u001b[0m\u001b[0m\n\u001b[0;32m---> 14\u001b[0;31m \u001b[0md\u001b[0m \u001b[0;34m=\u001b[0m \u001b[0mFR\u001b[0m\u001b[0;34m.\u001b[0m\u001b[0mface_distance\u001b[0m\u001b[0;34m(\u001b[0m\u001b[0mfaces\u001b[0m\u001b[0;34m,\u001b[0m \u001b[0mf0_sign\u001b[0m\u001b[0;34m)\u001b[0m\u001b[0;34m\u001b[0m\u001b[0;34m\u001b[0m\u001b[0m\n\u001b[0m\u001b[1;32m     15\u001b[0m \u001b[0mprint\u001b[0m\u001b[0;34m(\u001b[0m\u001b[0;34m'Distance = '\u001b[0m\u001b[0;34m,\u001b[0m\u001b[0md\u001b[0m\u001b[0;34m)\u001b[0m\u001b[0;34m\u001b[0m\u001b[0;34m\u001b[0m\u001b[0m\n",
      "\u001b[0;32m~/.local/lib/python3.9/site-packages/face_recognition/api.py\u001b[0m in \u001b[0;36mface_distance\u001b[0;34m(face_encodings, face_to_compare)\u001b[0m\n\u001b[1;32m     73\u001b[0m         \u001b[0;32mreturn\u001b[0m \u001b[0mnp\u001b[0m\u001b[0;34m.\u001b[0m\u001b[0mempty\u001b[0m\u001b[0;34m(\u001b[0m\u001b[0;34m(\u001b[0m\u001b[0;36m0\u001b[0m\u001b[0;34m)\u001b[0m\u001b[0;34m)\u001b[0m\u001b[0;34m\u001b[0m\u001b[0;34m\u001b[0m\u001b[0m\n\u001b[1;32m     74\u001b[0m \u001b[0;34m\u001b[0m\u001b[0m\n\u001b[0;32m---> 75\u001b[0;31m     \u001b[0;32mreturn\u001b[0m \u001b[0mnp\u001b[0m\u001b[0;34m.\u001b[0m\u001b[0mlinalg\u001b[0m\u001b[0;34m.\u001b[0m\u001b[0mnorm\u001b[0m\u001b[0;34m(\u001b[0m\u001b[0mface_encodings\u001b[0m \u001b[0;34m-\u001b[0m \u001b[0mface_to_compare\u001b[0m\u001b[0;34m,\u001b[0m \u001b[0maxis\u001b[0m\u001b[0;34m=\u001b[0m\u001b[0;36m1\u001b[0m\u001b[0;34m)\u001b[0m\u001b[0;34m\u001b[0m\u001b[0;34m\u001b[0m\u001b[0m\n\u001b[0m\u001b[1;32m     76\u001b[0m \u001b[0;34m\u001b[0m\u001b[0m\n\u001b[1;32m     77\u001b[0m \u001b[0;34m\u001b[0m\u001b[0m\n",
      "\u001b[0;31mTypeError\u001b[0m: unsupported operand type(s) for -: 'list' and 'list'"
     ]
    }
   ],
   "source": [
    "f0 = FR.load_image_file('./img/images(10)','RGB')\n",
    "f1 = FR.load_image_file('./img/images(7)','RGB')\n",
    "f2 = FR.load_image_file('./img/images(8)','RGB')\n",
    "f3 = FR.load_image_file('./img/images(9)','RGB')\n",
    "f4 = FR.load_image_file('./img/images(10)','RGB')\n",
    "\n",
    "f0_sign = FR.face_encodings(f0)\n",
    "f1_sign = FR.face_encodings(f1)\n",
    "f2_sign = FR.face_encodings(f2)\n",
    "f3_sign = FR.face_encodings(f3)\n",
    "f4_sign = FR.face_encodings(f4)\n",
    "\n",
    "faces = [f1_sign,f2_sign,f3_sign,f4_sign]\n",
    "d = FR.face_distance(faces, f0_sign)\n",
    "print('Distance = ',d)"
   ]
  }
 ],
 "metadata": {
  "kernelspec": {
   "display_name": "Python 3 (ipykernel)",
   "language": "python",
   "name": "python3"
  },
  "language_info": {
   "codemirror_mode": {
    "name": "ipython",
    "version": 3
   },
   "file_extension": ".py",
   "mimetype": "text/x-python",
   "name": "python",
   "nbconvert_exporter": "python",
   "pygments_lexer": "ipython3",
   "version": "3.9.7"
  }
 },
 "nbformat": 4,
 "nbformat_minor": 5
}
