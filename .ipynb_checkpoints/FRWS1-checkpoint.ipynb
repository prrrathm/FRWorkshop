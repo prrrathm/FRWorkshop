{
 "cells": [
  {
   "cell_type": "code",
   "execution_count": 5,
   "id": "9e672568",
   "metadata": {},
   "outputs": [],
   "source": [
    "import face_recognition\n",
    "from PIL import Image, ImageDraw, ImageFont"
   ]
  },
  {
   "cell_type": "markdown",
   "id": "62d59eae",
   "metadata": {},
   "source": [
    "TEXT OVER IMAGE"
   ]
  },
  {
   "cell_type": "code",
   "execution_count": 23,
   "id": "19387542",
   "metadata": {},
   "outputs": [],
   "source": [
    "pil_sunset = Image.open('img/images(3)')\n",
    "draw = ImageDraw.Draw(pil_sunset)\n",
    "\n",
    "fnt = ImageFont.truetype('/usr/share/fonts/truetype/ubuntu/Ubuntu-B.ttf', 20)\n",
    "draw.text((0, 0), \"Sunset Picture\",font=fnt, fill=(10, 10, 10))\n",
    "pil_sunset.show()"
   ]
  },
  {
   "cell_type": "markdown",
   "id": "34fa4c1a",
   "metadata": {},
   "source": [
    "FILTER OVER IMAGE"
   ]
  },
  {
   "cell_type": "code",
   "execution_count": null,
   "id": "44991dbd",
   "metadata": {},
   "outputs": [],
   "source": [
    "pil_sunset = Image.open('/home/amartya/Pictures/sunset.jpg')\n",
    "\n",
    "pil_emboss = pil_sunset.filter(ImageFilter.EMBOSS())\n",
    "pil_emboss.show()\n",
    "\n",
    "pil_blur = pil_sunset.filter(ImageFilter.BLUR())\n",
    "pil_blur.show()"
   ]
  }
 ],
 "metadata": {
  "kernelspec": {
   "display_name": "Python 3 (ipykernel)",
   "language": "python",
   "name": "python3"
  },
  "language_info": {
   "codemirror_mode": {
    "name": "ipython",
    "version": 3
   },
   "file_extension": ".py",
   "mimetype": "text/x-python",
   "name": "python",
   "nbconvert_exporter": "python",
   "pygments_lexer": "ipython3",
   "version": "3.9.7"
  }
 },
 "nbformat": 4,
 "nbformat_minor": 5
}
